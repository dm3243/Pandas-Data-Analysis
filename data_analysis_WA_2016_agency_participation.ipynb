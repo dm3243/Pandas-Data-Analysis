{
 "cells": [
  {
   "cell_type": "markdown",
   "metadata": {},
   "source": [
    "# Install the necessary packages"
   ]
  },
  {
   "cell_type": "code",
   "execution_count": 6,
   "metadata": {},
   "outputs": [
    {
     "name": "stdout",
     "output_type": "stream",
     "text": [
      "Collecting pandas\n",
      "  Downloading pandas-0.22.0-cp36-cp36m-macosx_10_6_intel.macosx_10_9_intel.macosx_10_9_x86_64.macosx_10_10_intel.macosx_10_10_x86_64.whl (14.9MB)\n",
      "\u001b[K    100% |████████████████████████████████| 14.9MB 89kB/s  eta 0:00:01\n",
      "\u001b[?25hCollecting numpy>=1.9.0 (from pandas)\n",
      "  Downloading numpy-1.14.0-cp36-cp36m-macosx_10_6_intel.macosx_10_9_intel.macosx_10_9_x86_64.macosx_10_10_intel.macosx_10_10_x86_64.whl (4.7MB)\n",
      "\u001b[K    100% |████████████████████████████████| 4.7MB 264kB/s ta 0:00:011    28% |█████████▏                      | 1.4MB 15.0MB/s eta 0:00:01\n",
      "\u001b[?25hRequirement already satisfied: python-dateutil>=2 in /Library/Frameworks/Python.framework/Versions/3.6/lib/python3.6/site-packages (from pandas)\n",
      "Collecting pytz>=2011k (from pandas)\n",
      "  Using cached pytz-2017.3-py2.py3-none-any.whl\n",
      "Requirement already satisfied: six>=1.5 in /Library/Frameworks/Python.framework/Versions/3.6/lib/python3.6/site-packages (from python-dateutil>=2->pandas)\n",
      "Installing collected packages: numpy, pytz, pandas\n",
      "Successfully installed numpy-1.14.0 pandas-0.22.0 pytz-2017.3\n"
     ]
    }
   ],
   "source": [
    "!pip3 install pandas"
   ]
  },
  {
   "cell_type": "code",
   "execution_count": 7,
   "metadata": {},
   "outputs": [],
   "source": [
    "import pandas as pd"
   ]
  },
  {
   "cell_type": "code",
   "execution_count": 295,
   "metadata": {},
   "outputs": [],
   "source": [
    "import pip"
   ]
  },
  {
   "cell_type": "code",
   "execution_count": 296,
   "metadata": {},
   "outputs": [
    {
     "name": "stdout",
     "output_type": "stream",
     "text": [
      "widgetsnbextension 3.1.3\n",
      "webencodings 0.5.1\n",
      "wcwidth 0.1.7\n",
      "traitlets 4.3.2\n",
      "tornado 4.5.3\n",
      "testpath 0.3.1\n",
      "terminado 0.8.1\n",
      "six 1.11.0\n",
      "simplegeneric 0.8.1\n",
      "setuptools 28.8.0\n",
      "Send2Trash 1.4.2\n",
      "pyzmq 16.0.4\n",
      "pytz 2017.3\n",
      "python-dateutil 2.6.1\n",
      "pyparsing 2.2.0\n",
      "Pygments 2.2.0\n",
      "ptyprocess 0.5.2\n",
      "prompt-toolkit 1.0.15\n",
      "pip 9.0.1\n",
      "pickleshare 0.7.4\n",
      "pexpect 4.3.1\n",
      "parso 0.1.1\n",
      "pandocfilters 1.4.2\n",
      "pandas 0.22.0\n",
      "numpy 1.14.0\n",
      "notebook 5.3.1\n",
      "nbformat 4.4.0\n",
      "nbconvert 5.3.1\n",
      "mistune 0.8.3\n",
      "matplotlib 2.1.2\n",
      "MarkupSafe 1.0\n",
      "jupyter-core 4.4.0\n",
      "jupyter-client 5.2.2\n",
      "jsonschema 2.6.0\n",
      "Jinja2 2.10\n",
      "jedi 0.11.1\n",
      "ipywidgets 7.1.1\n",
      "ipython 6.2.1\n",
      "ipython-genutils 0.2.0\n",
      "ipykernel 4.8.0\n",
      "html5lib 1.0.1\n",
      "entrypoints 0.2.3\n",
      "decorator 4.2.1\n",
      "cycler 0.10.0\n",
      "bleach 2.1.2\n",
      "appnope 0.1.0\n"
     ]
    }
   ],
   "source": [
    "for i in pip.get_installed_distributions(local_only=True):\n",
    "    print(i)"
   ]
  },
  {
   "cell_type": "markdown",
   "metadata": {},
   "source": [
    "# Read in the CSV file using Pandas"
   ]
  },
  {
   "cell_type": "code",
   "execution_count": 9,
   "metadata": {},
   "outputs": [],
   "source": [
    "file = pd.read_csv('WA-2016/agency_participation.csv')"
   ]
  },
  {
   "cell_type": "markdown",
   "metadata": {},
   "source": [
    "# Get a quick idea about the data you're dealing with (basic commands)"
   ]
  },
  {
   "cell_type": "code",
   "execution_count": 10,
   "metadata": {},
   "outputs": [
    {
     "data": {
      "text/html": [
       "<div>\n",
       "<style scoped>\n",
       "    .dataframe tbody tr th:only-of-type {\n",
       "        vertical-align: middle;\n",
       "    }\n",
       "\n",
       "    .dataframe tbody tr th {\n",
       "        vertical-align: top;\n",
       "    }\n",
       "\n",
       "    .dataframe thead th {\n",
       "        text-align: right;\n",
       "    }\n",
       "</style>\n",
       "<table border=\"1\" class=\"dataframe\">\n",
       "  <thead>\n",
       "    <tr style=\"text-align: right;\">\n",
       "      <th></th>\n",
       "      <th>year</th>\n",
       "      <th>state_name</th>\n",
       "      <th>state_abbr</th>\n",
       "      <th>agency_id</th>\n",
       "      <th>agency_ori</th>\n",
       "      <th>agency_name</th>\n",
       "      <th>agency_population</th>\n",
       "      <th>population_group_code</th>\n",
       "      <th>population_group</th>\n",
       "      <th>reported</th>\n",
       "      <th>months_reported</th>\n",
       "      <th>nibrs_reported</th>\n",
       "      <th>nibrs_months_reported</th>\n",
       "      <th>covered</th>\n",
       "      <th>participated</th>\n",
       "      <th>nibrs_participated</th>\n",
       "    </tr>\n",
       "  </thead>\n",
       "  <tbody>\n",
       "    <tr>\n",
       "      <th>0</th>\n",
       "      <td>2016</td>\n",
       "      <td>Washington</td>\n",
       "      <td>WA</td>\n",
       "      <td>20650</td>\n",
       "      <td>WA0140100</td>\n",
       "      <td>Aberdeen</td>\n",
       "      <td>16100</td>\n",
       "      <td>5</td>\n",
       "      <td>Cities from 10,000 thru 24,999</td>\n",
       "      <td>1</td>\n",
       "      <td>12</td>\n",
       "      <td>1</td>\n",
       "      <td>12</td>\n",
       "      <td>0</td>\n",
       "      <td>1</td>\n",
       "      <td>1</td>\n",
       "    </tr>\n",
       "    <tr>\n",
       "      <th>1</th>\n",
       "      <td>2016</td>\n",
       "      <td>Washington</td>\n",
       "      <td>WA</td>\n",
       "      <td>20593</td>\n",
       "      <td>WA0010000</td>\n",
       "      <td>Adams</td>\n",
       "      <td>9899</td>\n",
       "      <td>8D</td>\n",
       "      <td>Non-MSA counties under 10,000</td>\n",
       "      <td>1</td>\n",
       "      <td>12</td>\n",
       "      <td>1</td>\n",
       "      <td>12</td>\n",
       "      <td>0</td>\n",
       "      <td>1</td>\n",
       "      <td>1</td>\n",
       "    </tr>\n",
       "    <tr>\n",
       "      <th>2</th>\n",
       "      <td>2016</td>\n",
       "      <td>Washington</td>\n",
       "      <td>WA</td>\n",
       "      <td>20815</td>\n",
       "      <td>WA0320600</td>\n",
       "      <td>Airway Heights</td>\n",
       "      <td>6652</td>\n",
       "      <td>6</td>\n",
       "      <td>Cities from 2,500 thru 9,999</td>\n",
       "      <td>1</td>\n",
       "      <td>12</td>\n",
       "      <td>1</td>\n",
       "      <td>12</td>\n",
       "      <td>0</td>\n",
       "      <td>1</td>\n",
       "      <td>1</td>\n",
       "    </tr>\n",
       "    <tr>\n",
       "      <th>3</th>\n",
       "      <td>2016</td>\n",
       "      <td>Washington</td>\n",
       "      <td>WA</td>\n",
       "      <td>20851</td>\n",
       "      <td>WA0380200</td>\n",
       "      <td>Albion</td>\n",
       "      <td>573</td>\n",
       "      <td>7</td>\n",
       "      <td>Cities under 2,500</td>\n",
       "      <td>0</td>\n",
       "      <td>0</td>\n",
       "      <td>0</td>\n",
       "      <td>0</td>\n",
       "      <td>1</td>\n",
       "      <td>1</td>\n",
       "      <td>1</td>\n",
       "    </tr>\n",
       "    <tr>\n",
       "      <th>4</th>\n",
       "      <td>2016</td>\n",
       "      <td>Washington</td>\n",
       "      <td>WA</td>\n",
       "      <td>20678</td>\n",
       "      <td>WA0171400</td>\n",
       "      <td>Algona</td>\n",
       "      <td>3158</td>\n",
       "      <td>6</td>\n",
       "      <td>Cities from 2,500 thru 9,999</td>\n",
       "      <td>1</td>\n",
       "      <td>12</td>\n",
       "      <td>1</td>\n",
       "      <td>12</td>\n",
       "      <td>0</td>\n",
       "      <td>1</td>\n",
       "      <td>1</td>\n",
       "    </tr>\n",
       "  </tbody>\n",
       "</table>\n",
       "</div>"
      ],
      "text/plain": [
       "   year  state_name state_abbr  agency_id agency_ori     agency_name  \\\n",
       "0  2016  Washington         WA      20650  WA0140100        Aberdeen   \n",
       "1  2016  Washington         WA      20593  WA0010000           Adams   \n",
       "2  2016  Washington         WA      20815  WA0320600  Airway Heights   \n",
       "3  2016  Washington         WA      20851  WA0380200          Albion   \n",
       "4  2016  Washington         WA      20678  WA0171400          Algona   \n",
       "\n",
       "   agency_population population_group_code                population_group  \\\n",
       "0              16100                     5  Cities from 10,000 thru 24,999   \n",
       "1               9899                    8D   Non-MSA counties under 10,000   \n",
       "2               6652                     6    Cities from 2,500 thru 9,999   \n",
       "3                573                     7              Cities under 2,500   \n",
       "4               3158                     6    Cities from 2,500 thru 9,999   \n",
       "\n",
       "   reported  months_reported  nibrs_reported  nibrs_months_reported  covered  \\\n",
       "0         1               12               1                     12        0   \n",
       "1         1               12               1                     12        0   \n",
       "2         1               12               1                     12        0   \n",
       "3         0                0               0                      0        1   \n",
       "4         1               12               1                     12        0   \n",
       "\n",
       "   participated  nibrs_participated  \n",
       "0             1                   1  \n",
       "1             1                   1  \n",
       "2             1                   1  \n",
       "3             1                   1  \n",
       "4             1                   1  "
      ]
     },
     "execution_count": 10,
     "metadata": {},
     "output_type": "execute_result"
    }
   ],
   "source": [
    "file.head()"
   ]
  },
  {
   "cell_type": "code",
   "execution_count": 11,
   "metadata": {},
   "outputs": [
    {
     "data": {
      "text/html": [
       "<div>\n",
       "<style scoped>\n",
       "    .dataframe tbody tr th:only-of-type {\n",
       "        vertical-align: middle;\n",
       "    }\n",
       "\n",
       "    .dataframe tbody tr th {\n",
       "        vertical-align: top;\n",
       "    }\n",
       "\n",
       "    .dataframe thead th {\n",
       "        text-align: right;\n",
       "    }\n",
       "</style>\n",
       "<table border=\"1\" class=\"dataframe\">\n",
       "  <thead>\n",
       "    <tr style=\"text-align: right;\">\n",
       "      <th></th>\n",
       "      <th>year</th>\n",
       "      <th>state_name</th>\n",
       "      <th>state_abbr</th>\n",
       "      <th>agency_id</th>\n",
       "      <th>agency_ori</th>\n",
       "      <th>agency_name</th>\n",
       "      <th>agency_population</th>\n",
       "      <th>population_group_code</th>\n",
       "      <th>population_group</th>\n",
       "      <th>reported</th>\n",
       "      <th>months_reported</th>\n",
       "      <th>nibrs_reported</th>\n",
       "      <th>nibrs_months_reported</th>\n",
       "      <th>covered</th>\n",
       "      <th>participated</th>\n",
       "      <th>nibrs_participated</th>\n",
       "    </tr>\n",
       "  </thead>\n",
       "  <tbody>\n",
       "    <tr>\n",
       "      <th>312</th>\n",
       "      <td>2016</td>\n",
       "      <td>Washington</td>\n",
       "      <td>WA</td>\n",
       "      <td>20863</td>\n",
       "      <td>WA0390000</td>\n",
       "      <td>Yakima</td>\n",
       "      <td>86704</td>\n",
       "      <td>9B</td>\n",
       "      <td>MSA counties from 25,000 thru 99,999</td>\n",
       "      <td>1</td>\n",
       "      <td>12</td>\n",
       "      <td>1</td>\n",
       "      <td>12</td>\n",
       "      <td>0</td>\n",
       "      <td>1</td>\n",
       "      <td>1</td>\n",
       "    </tr>\n",
       "    <tr>\n",
       "      <th>313</th>\n",
       "      <td>2016</td>\n",
       "      <td>Washington</td>\n",
       "      <td>WA</td>\n",
       "      <td>20868</td>\n",
       "      <td>WA0390500</td>\n",
       "      <td>Yakima</td>\n",
       "      <td>93798</td>\n",
       "      <td>3</td>\n",
       "      <td>Cities from 50,000 thru 99,000</td>\n",
       "      <td>1</td>\n",
       "      <td>12</td>\n",
       "      <td>1</td>\n",
       "      <td>12</td>\n",
       "      <td>0</td>\n",
       "      <td>1</td>\n",
       "      <td>1</td>\n",
       "    </tr>\n",
       "    <tr>\n",
       "      <th>314</th>\n",
       "      <td>2016</td>\n",
       "      <td>Washington</td>\n",
       "      <td>WA</td>\n",
       "      <td>20692</td>\n",
       "      <td>WA0173100</td>\n",
       "      <td>Yarrow Point</td>\n",
       "      <td>1078</td>\n",
       "      <td>7</td>\n",
       "      <td>Cities under 2,500</td>\n",
       "      <td>1</td>\n",
       "      <td>12</td>\n",
       "      <td>1</td>\n",
       "      <td>12</td>\n",
       "      <td>0</td>\n",
       "      <td>1</td>\n",
       "      <td>1</td>\n",
       "    </tr>\n",
       "    <tr>\n",
       "      <th>315</th>\n",
       "      <td>2016</td>\n",
       "      <td>Washington</td>\n",
       "      <td>WA</td>\n",
       "      <td>20831</td>\n",
       "      <td>WA0340900</td>\n",
       "      <td>Yelm</td>\n",
       "      <td>8592</td>\n",
       "      <td>6</td>\n",
       "      <td>Cities from 2,500 thru 9,999</td>\n",
       "      <td>1</td>\n",
       "      <td>12</td>\n",
       "      <td>1</td>\n",
       "      <td>12</td>\n",
       "      <td>0</td>\n",
       "      <td>1</td>\n",
       "      <td>1</td>\n",
       "    </tr>\n",
       "    <tr>\n",
       "      <th>316</th>\n",
       "      <td>2016</td>\n",
       "      <td>Washington</td>\n",
       "      <td>WA</td>\n",
       "      <td>20869</td>\n",
       "      <td>WA0390600</td>\n",
       "      <td>Zillah</td>\n",
       "      <td>3138</td>\n",
       "      <td>6</td>\n",
       "      <td>Cities from 2,500 thru 9,999</td>\n",
       "      <td>1</td>\n",
       "      <td>12</td>\n",
       "      <td>1</td>\n",
       "      <td>12</td>\n",
       "      <td>0</td>\n",
       "      <td>1</td>\n",
       "      <td>1</td>\n",
       "    </tr>\n",
       "  </tbody>\n",
       "</table>\n",
       "</div>"
      ],
      "text/plain": [
       "     year  state_name state_abbr  agency_id agency_ori   agency_name  \\\n",
       "312  2016  Washington         WA      20863  WA0390000        Yakima   \n",
       "313  2016  Washington         WA      20868  WA0390500        Yakima   \n",
       "314  2016  Washington         WA      20692  WA0173100  Yarrow Point   \n",
       "315  2016  Washington         WA      20831  WA0340900          Yelm   \n",
       "316  2016  Washington         WA      20869  WA0390600        Zillah   \n",
       "\n",
       "     agency_population population_group_code  \\\n",
       "312              86704                    9B   \n",
       "313              93798                     3   \n",
       "314               1078                     7   \n",
       "315               8592                     6   \n",
       "316               3138                     6   \n",
       "\n",
       "                         population_group  reported  months_reported  \\\n",
       "312  MSA counties from 25,000 thru 99,999         1               12   \n",
       "313        Cities from 50,000 thru 99,000         1               12   \n",
       "314                    Cities under 2,500         1               12   \n",
       "315          Cities from 2,500 thru 9,999         1               12   \n",
       "316          Cities from 2,500 thru 9,999         1               12   \n",
       "\n",
       "     nibrs_reported  nibrs_months_reported  covered  participated  \\\n",
       "312               1                     12        0             1   \n",
       "313               1                     12        0             1   \n",
       "314               1                     12        0             1   \n",
       "315               1                     12        0             1   \n",
       "316               1                     12        0             1   \n",
       "\n",
       "     nibrs_participated  \n",
       "312                   1  \n",
       "313                   1  \n",
       "314                   1  \n",
       "315                   1  \n",
       "316                   1  "
      ]
     },
     "execution_count": 11,
     "metadata": {},
     "output_type": "execute_result"
    }
   ],
   "source": [
    "file.tail()"
   ]
  },
  {
   "cell_type": "code",
   "execution_count": 184,
   "metadata": {},
   "outputs": [
    {
     "data": {
      "text/html": [
       "<div>\n",
       "<style scoped>\n",
       "    .dataframe tbody tr th:only-of-type {\n",
       "        vertical-align: middle;\n",
       "    }\n",
       "\n",
       "    .dataframe tbody tr th {\n",
       "        vertical-align: top;\n",
       "    }\n",
       "\n",
       "    .dataframe thead th {\n",
       "        text-align: right;\n",
       "    }\n",
       "</style>\n",
       "<table border=\"1\" class=\"dataframe\">\n",
       "  <thead>\n",
       "    <tr style=\"text-align: right;\">\n",
       "      <th></th>\n",
       "      <th>year</th>\n",
       "      <th>agency_id</th>\n",
       "      <th>agency_population</th>\n",
       "      <th>reported</th>\n",
       "      <th>months_reported</th>\n",
       "      <th>nibrs_reported</th>\n",
       "      <th>nibrs_months_reported</th>\n",
       "      <th>covered</th>\n",
       "      <th>participated</th>\n",
       "      <th>nibrs_participated</th>\n",
       "    </tr>\n",
       "  </thead>\n",
       "  <tbody>\n",
       "    <tr>\n",
       "      <th>count</th>\n",
       "      <td>317.0</td>\n",
       "      <td>317.000000</td>\n",
       "      <td>317.000000</td>\n",
       "      <td>317.000000</td>\n",
       "      <td>317.000000</td>\n",
       "      <td>317.000000</td>\n",
       "      <td>317.000000</td>\n",
       "      <td>317.000000</td>\n",
       "      <td>317.000000</td>\n",
       "      <td>317.000000</td>\n",
       "    </tr>\n",
       "    <tr>\n",
       "      <th>mean</th>\n",
       "      <td>2016.0</td>\n",
       "      <td>20848.444795</td>\n",
       "      <td>22750.227129</td>\n",
       "      <td>0.747634</td>\n",
       "      <td>9.403785</td>\n",
       "      <td>0.690852</td>\n",
       "      <td>8.637224</td>\n",
       "      <td>0.132492</td>\n",
       "      <td>0.873817</td>\n",
       "      <td>0.807571</td>\n",
       "    </tr>\n",
       "    <tr>\n",
       "      <th>std</th>\n",
       "      <td>0.0</td>\n",
       "      <td>667.627142</td>\n",
       "      <td>59116.918379</td>\n",
       "      <td>0.435057</td>\n",
       "      <td>4.719444</td>\n",
       "      <td>0.462873</td>\n",
       "      <td>5.309795</td>\n",
       "      <td>0.339561</td>\n",
       "      <td>0.332580</td>\n",
       "      <td>0.394831</td>\n",
       "    </tr>\n",
       "    <tr>\n",
       "      <th>min</th>\n",
       "      <td>2016.0</td>\n",
       "      <td>20593.000000</td>\n",
       "      <td>0.000000</td>\n",
       "      <td>0.000000</td>\n",
       "      <td>0.000000</td>\n",
       "      <td>0.000000</td>\n",
       "      <td>0.000000</td>\n",
       "      <td>0.000000</td>\n",
       "      <td>0.000000</td>\n",
       "      <td>0.000000</td>\n",
       "    </tr>\n",
       "    <tr>\n",
       "      <th>25%</th>\n",
       "      <td>2016.0</td>\n",
       "      <td>20672.000000</td>\n",
       "      <td>808.000000</td>\n",
       "      <td>0.000000</td>\n",
       "      <td>11.000000</td>\n",
       "      <td>0.000000</td>\n",
       "      <td>0.000000</td>\n",
       "      <td>0.000000</td>\n",
       "      <td>1.000000</td>\n",
       "      <td>1.000000</td>\n",
       "    </tr>\n",
       "    <tr>\n",
       "      <th>50%</th>\n",
       "      <td>2016.0</td>\n",
       "      <td>20751.000000</td>\n",
       "      <td>4797.000000</td>\n",
       "      <td>1.000000</td>\n",
       "      <td>12.000000</td>\n",
       "      <td>1.000000</td>\n",
       "      <td>12.000000</td>\n",
       "      <td>0.000000</td>\n",
       "      <td>1.000000</td>\n",
       "      <td>1.000000</td>\n",
       "    </tr>\n",
       "    <tr>\n",
       "      <th>75%</th>\n",
       "      <td>2016.0</td>\n",
       "      <td>20830.000000</td>\n",
       "      <td>19193.000000</td>\n",
       "      <td>1.000000</td>\n",
       "      <td>12.000000</td>\n",
       "      <td>1.000000</td>\n",
       "      <td>12.000000</td>\n",
       "      <td>0.000000</td>\n",
       "      <td>1.000000</td>\n",
       "      <td>1.000000</td>\n",
       "    </tr>\n",
       "    <tr>\n",
       "      <th>max</th>\n",
       "      <td>2016.0</td>\n",
       "      <td>25905.000000</td>\n",
       "      <td>683700.000000</td>\n",
       "      <td>1.000000</td>\n",
       "      <td>12.000000</td>\n",
       "      <td>1.000000</td>\n",
       "      <td>12.000000</td>\n",
       "      <td>1.000000</td>\n",
       "      <td>1.000000</td>\n",
       "      <td>1.000000</td>\n",
       "    </tr>\n",
       "  </tbody>\n",
       "</table>\n",
       "</div>"
      ],
      "text/plain": [
       "         year     agency_id  agency_population    reported  months_reported  \\\n",
       "count   317.0    317.000000         317.000000  317.000000       317.000000   \n",
       "mean   2016.0  20848.444795       22750.227129    0.747634         9.403785   \n",
       "std       0.0    667.627142       59116.918379    0.435057         4.719444   \n",
       "min    2016.0  20593.000000           0.000000    0.000000         0.000000   \n",
       "25%    2016.0  20672.000000         808.000000    0.000000        11.000000   \n",
       "50%    2016.0  20751.000000        4797.000000    1.000000        12.000000   \n",
       "75%    2016.0  20830.000000       19193.000000    1.000000        12.000000   \n",
       "max    2016.0  25905.000000      683700.000000    1.000000        12.000000   \n",
       "\n",
       "       nibrs_reported  nibrs_months_reported     covered  participated  \\\n",
       "count      317.000000             317.000000  317.000000    317.000000   \n",
       "mean         0.690852               8.637224    0.132492      0.873817   \n",
       "std          0.462873               5.309795    0.339561      0.332580   \n",
       "min          0.000000               0.000000    0.000000      0.000000   \n",
       "25%          0.000000               0.000000    0.000000      1.000000   \n",
       "50%          1.000000              12.000000    0.000000      1.000000   \n",
       "75%          1.000000              12.000000    0.000000      1.000000   \n",
       "max          1.000000              12.000000    1.000000      1.000000   \n",
       "\n",
       "       nibrs_participated  \n",
       "count          317.000000  \n",
       "mean             0.807571  \n",
       "std              0.394831  \n",
       "min              0.000000  \n",
       "25%              1.000000  \n",
       "50%              1.000000  \n",
       "75%              1.000000  \n",
       "max              1.000000  "
      ]
     },
     "execution_count": 184,
     "metadata": {},
     "output_type": "execute_result"
    }
   ],
   "source": [
    "file.describe()"
   ]
  },
  {
   "cell_type": "code",
   "execution_count": 186,
   "metadata": {},
   "outputs": [
    {
     "data": {
      "text/plain": [
       "year                     317\n",
       "state_name               317\n",
       "state_abbr               317\n",
       "agency_id                317\n",
       "agency_ori               317\n",
       "agency_name              317\n",
       "agency_population        317\n",
       "population_group_code    317\n",
       "population_group         317\n",
       "reported                 317\n",
       "months_reported          317\n",
       "nibrs_reported           317\n",
       "nibrs_months_reported    317\n",
       "covered                  317\n",
       "participated             317\n",
       "nibrs_participated       317\n",
       "dtype: int64"
      ]
     },
     "execution_count": 186,
     "metadata": {},
     "output_type": "execute_result"
    }
   ],
   "source": [
    "file.count()"
   ]
  },
  {
   "cell_type": "code",
   "execution_count": 18,
   "metadata": {},
   "outputs": [
    {
     "data": {
      "text/plain": [
       "Index(['year', 'state_name', 'state_abbr', 'agency_id', 'agency_ori',\n",
       "       'agency_name', 'agency_population', 'population_group_code',\n",
       "       'population_group', 'reported', 'months_reported', 'nibrs_reported',\n",
       "       'nibrs_months_reported', 'covered', 'participated',\n",
       "       'nibrs_participated'],\n",
       "      dtype='object')"
      ]
     },
     "execution_count": 18,
     "metadata": {},
     "output_type": "execute_result"
    }
   ],
   "source": [
    "file.keys()"
   ]
  },
  {
   "cell_type": "code",
   "execution_count": 189,
   "metadata": {},
   "outputs": [
    {
     "data": {
      "text/plain": [
       "683700"
      ]
     },
     "execution_count": 189,
     "metadata": {},
     "output_type": "execute_result"
    }
   ],
   "source": [
    "file.agency_population.max()"
   ]
  },
  {
   "cell_type": "markdown",
   "metadata": {},
   "source": [
    "# Modify and save a version of the describe fn. that suits your needs"
   ]
  },
  {
   "cell_type": "code",
   "execution_count": 288,
   "metadata": {},
   "outputs": [
    {
     "data": {
      "text/html": [
       "<div>\n",
       "<style scoped>\n",
       "    .dataframe tbody tr th:only-of-type {\n",
       "        vertical-align: middle;\n",
       "    }\n",
       "\n",
       "    .dataframe tbody tr th {\n",
       "        vertical-align: top;\n",
       "    }\n",
       "\n",
       "    .dataframe thead th {\n",
       "        text-align: right;\n",
       "    }\n",
       "</style>\n",
       "<table border=\"1\" class=\"dataframe\">\n",
       "  <thead>\n",
       "    <tr style=\"text-align: right;\">\n",
       "      <th></th>\n",
       "      <th>count</th>\n",
       "      <th>mean</th>\n",
       "      <th>std</th>\n",
       "      <th>min</th>\n",
       "      <th>25%</th>\n",
       "      <th>50%</th>\n",
       "      <th>75%</th>\n",
       "      <th>max</th>\n",
       "    </tr>\n",
       "    <tr>\n",
       "      <th>agency_name</th>\n",
       "      <th></th>\n",
       "      <th></th>\n",
       "      <th></th>\n",
       "      <th></th>\n",
       "      <th></th>\n",
       "      <th></th>\n",
       "      <th></th>\n",
       "      <th></th>\n",
       "    </tr>\n",
       "  </thead>\n",
       "  <tbody>\n",
       "    <tr>\n",
       "      <th>Aberdeen</th>\n",
       "      <td>1.0</td>\n",
       "      <td>16100.0</td>\n",
       "      <td>NaN</td>\n",
       "      <td>16100.0</td>\n",
       "      <td>16100.0</td>\n",
       "      <td>16100.0</td>\n",
       "      <td>16100.0</td>\n",
       "      <td>16100.0</td>\n",
       "    </tr>\n",
       "    <tr>\n",
       "      <th>Adams</th>\n",
       "      <td>1.0</td>\n",
       "      <td>9899.0</td>\n",
       "      <td>NaN</td>\n",
       "      <td>9899.0</td>\n",
       "      <td>9899.0</td>\n",
       "      <td>9899.0</td>\n",
       "      <td>9899.0</td>\n",
       "      <td>9899.0</td>\n",
       "    </tr>\n",
       "    <tr>\n",
       "      <th>Airway Heights</th>\n",
       "      <td>1.0</td>\n",
       "      <td>6652.0</td>\n",
       "      <td>NaN</td>\n",
       "      <td>6652.0</td>\n",
       "      <td>6652.0</td>\n",
       "      <td>6652.0</td>\n",
       "      <td>6652.0</td>\n",
       "      <td>6652.0</td>\n",
       "    </tr>\n",
       "    <tr>\n",
       "      <th>Albion</th>\n",
       "      <td>1.0</td>\n",
       "      <td>573.0</td>\n",
       "      <td>NaN</td>\n",
       "      <td>573.0</td>\n",
       "      <td>573.0</td>\n",
       "      <td>573.0</td>\n",
       "      <td>573.0</td>\n",
       "      <td>573.0</td>\n",
       "    </tr>\n",
       "    <tr>\n",
       "      <th>Algona</th>\n",
       "      <td>1.0</td>\n",
       "      <td>3158.0</td>\n",
       "      <td>NaN</td>\n",
       "      <td>3158.0</td>\n",
       "      <td>3158.0</td>\n",
       "      <td>3158.0</td>\n",
       "      <td>3158.0</td>\n",
       "      <td>3158.0</td>\n",
       "    </tr>\n",
       "  </tbody>\n",
       "</table>\n",
       "</div>"
      ],
      "text/plain": [
       "                count     mean  std      min      25%      50%      75%  \\\n",
       "agency_name                                                               \n",
       "Aberdeen          1.0  16100.0  NaN  16100.0  16100.0  16100.0  16100.0   \n",
       "Adams             1.0   9899.0  NaN   9899.0   9899.0   9899.0   9899.0   \n",
       "Airway Heights    1.0   6652.0  NaN   6652.0   6652.0   6652.0   6652.0   \n",
       "Albion            1.0    573.0  NaN    573.0    573.0    573.0    573.0   \n",
       "Algona            1.0   3158.0  NaN   3158.0   3158.0   3158.0   3158.0   \n",
       "\n",
       "                    max  \n",
       "agency_name              \n",
       "Aberdeen        16100.0  \n",
       "Adams            9899.0  \n",
       "Airway Heights   6652.0  \n",
       "Albion            573.0  \n",
       "Algona           3158.0  "
      ]
     },
     "execution_count": 288,
     "metadata": {},
     "output_type": "execute_result"
    }
   ],
   "source": [
    "file.agency_population.groupby(file.agency_name[:5]).describe()"
   ]
  },
  {
   "cell_type": "code",
   "execution_count": 289,
   "metadata": {},
   "outputs": [],
   "source": [
    "describe_first_five = file.agency_population.groupby(file.agency_name[:5]).describe()[['count','max']]"
   ]
  },
  {
   "cell_type": "code",
   "execution_count": 290,
   "metadata": {},
   "outputs": [],
   "source": [
    "describe_first_five.columns = ['count', 'agency pop']"
   ]
  },
  {
   "cell_type": "code",
   "execution_count": 292,
   "metadata": {},
   "outputs": [
    {
     "data": {
      "text/plain": [
       "count             1.0\n",
       "agency pop    16100.0\n",
       "dtype: float64"
      ]
     },
     "execution_count": 292,
     "metadata": {},
     "output_type": "execute_result"
    }
   ],
   "source": [
    "describe_first_five.max()"
   ]
  },
  {
   "cell_type": "code",
   "execution_count": 285,
   "metadata": {},
   "outputs": [
    {
     "data": {
      "text/html": [
       "<div>\n",
       "<style scoped>\n",
       "    .dataframe tbody tr th:only-of-type {\n",
       "        vertical-align: middle;\n",
       "    }\n",
       "\n",
       "    .dataframe tbody tr th {\n",
       "        vertical-align: top;\n",
       "    }\n",
       "\n",
       "    .dataframe thead th {\n",
       "        text-align: right;\n",
       "    }\n",
       "</style>\n",
       "<table border=\"1\" class=\"dataframe\">\n",
       "  <thead>\n",
       "    <tr style=\"text-align: right;\">\n",
       "      <th></th>\n",
       "      <th>count</th>\n",
       "      <th>agency pop</th>\n",
       "    </tr>\n",
       "    <tr>\n",
       "      <th>agency_name</th>\n",
       "      <th></th>\n",
       "      <th></th>\n",
       "    </tr>\n",
       "  </thead>\n",
       "  <tbody>\n",
       "    <tr>\n",
       "      <th>Aberdeen</th>\n",
       "      <td>1.0</td>\n",
       "      <td>16100.0</td>\n",
       "    </tr>\n",
       "    <tr>\n",
       "      <th>Adams</th>\n",
       "      <td>1.0</td>\n",
       "      <td>9899.0</td>\n",
       "    </tr>\n",
       "    <tr>\n",
       "      <th>Airway Heights</th>\n",
       "      <td>1.0</td>\n",
       "      <td>6652.0</td>\n",
       "    </tr>\n",
       "    <tr>\n",
       "      <th>Albion</th>\n",
       "      <td>1.0</td>\n",
       "      <td>573.0</td>\n",
       "    </tr>\n",
       "    <tr>\n",
       "      <th>Algona</th>\n",
       "      <td>1.0</td>\n",
       "      <td>3158.0</td>\n",
       "    </tr>\n",
       "  </tbody>\n",
       "</table>\n",
       "</div>"
      ],
      "text/plain": [
       "                count  agency pop\n",
       "agency_name                      \n",
       "Aberdeen          1.0     16100.0\n",
       "Adams             1.0      9899.0\n",
       "Airway Heights    1.0      6652.0\n",
       "Albion            1.0       573.0\n",
       "Algona            1.0      3158.0"
      ]
     },
     "execution_count": 285,
     "metadata": {},
     "output_type": "execute_result"
    }
   ],
   "source": [
    "describe_first_five"
   ]
  },
  {
   "cell_type": "code",
   "execution_count": 278,
   "metadata": {},
   "outputs": [],
   "source": [
    "describe_all = file.agency_population.groupby(file.agency_name).describe()[['max']]"
   ]
  },
  {
   "cell_type": "code",
   "execution_count": 279,
   "metadata": {},
   "outputs": [],
   "source": [
    "describe_all.columns = ['agency pop']"
   ]
  },
  {
   "cell_type": "code",
   "execution_count": 280,
   "metadata": {},
   "outputs": [
    {
     "data": {
      "text/plain": [
       "agency pop    683700.0\n",
       "dtype: float64"
      ]
     },
     "execution_count": 280,
     "metadata": {},
     "output_type": "execute_result"
    }
   ],
   "source": [
    "describe_all.max()"
   ]
  },
  {
   "cell_type": "code",
   "execution_count": 282,
   "metadata": {},
   "outputs": [
    {
     "data": {
      "text/html": [
       "<div>\n",
       "<style scoped>\n",
       "    .dataframe tbody tr th:only-of-type {\n",
       "        vertical-align: middle;\n",
       "    }\n",
       "\n",
       "    .dataframe tbody tr th {\n",
       "        vertical-align: top;\n",
       "    }\n",
       "\n",
       "    .dataframe thead th {\n",
       "        text-align: right;\n",
       "    }\n",
       "</style>\n",
       "<table border=\"1\" class=\"dataframe\">\n",
       "  <thead>\n",
       "    <tr style=\"text-align: right;\">\n",
       "      <th></th>\n",
       "      <th>agency pop</th>\n",
       "    </tr>\n",
       "    <tr>\n",
       "      <th>agency_name</th>\n",
       "      <th></th>\n",
       "    </tr>\n",
       "  </thead>\n",
       "  <tbody>\n",
       "    <tr>\n",
       "      <th>Aberdeen</th>\n",
       "      <td>16100.0</td>\n",
       "    </tr>\n",
       "    <tr>\n",
       "      <th>Adams</th>\n",
       "      <td>9899.0</td>\n",
       "    </tr>\n",
       "    <tr>\n",
       "      <th>Airway Heights</th>\n",
       "      <td>6652.0</td>\n",
       "    </tr>\n",
       "    <tr>\n",
       "      <th>Albion</th>\n",
       "      <td>573.0</td>\n",
       "    </tr>\n",
       "    <tr>\n",
       "      <th>Algona</th>\n",
       "      <td>3158.0</td>\n",
       "    </tr>\n",
       "  </tbody>\n",
       "</table>\n",
       "</div>"
      ],
      "text/plain": [
       "                agency pop\n",
       "agency_name               \n",
       "Aberdeen           16100.0\n",
       "Adams               9899.0\n",
       "Airway Heights      6652.0\n",
       "Albion               573.0\n",
       "Algona              3158.0"
      ]
     },
     "execution_count": 282,
     "metadata": {},
     "output_type": "execute_result"
    }
   ],
   "source": [
    "describe_all.head()"
   ]
  },
  {
   "cell_type": "markdown",
   "metadata": {},
   "source": [
    "# Finding the top result in the df and how many times it's seen ('Garfield, 2')"
   ]
  },
  {
   "cell_type": "code",
   "execution_count": 136,
   "metadata": {},
   "outputs": [
    {
     "name": "stdout",
     "output_type": "stream",
     "text": [
      "count          317\n",
      "unique         305\n",
      "top       Garfield\n",
      "freq             2\n",
      "Name: agency_name, dtype: object\n"
     ]
    }
   ],
   "source": [
    "print(file.agency_name.describe())"
   ]
  },
  {
   "cell_type": "markdown",
   "metadata": {},
   "source": [
    "# Finding where 'Garfield' is indexed"
   ]
  },
  {
   "cell_type": "code",
   "execution_count": 234,
   "metadata": {},
   "outputs": [
    {
     "data": {
      "text/plain": [
       "88    Garfield\n",
       "89    Garfield\n",
       "Name: agency_name, dtype: object"
      ]
     },
     "execution_count": 234,
     "metadata": {},
     "output_type": "execute_result"
    }
   ],
   "source": [
    "file.agency_name[file.agency_name == 'Garfield']"
   ]
  },
  {
   "cell_type": "markdown",
   "metadata": {},
   "source": [
    "# Finding the population(s) in Garfield"
   ]
  },
  {
   "cell_type": "code",
   "execution_count": 242,
   "metadata": {},
   "outputs": [
    {
     "data": {
      "text/plain": [
       "(598, 2211)"
      ]
     },
     "execution_count": 242,
     "metadata": {},
     "output_type": "execute_result"
    }
   ],
   "source": [
    "file.agency_population[88], file.agency_population[89]"
   ]
  },
  {
   "cell_type": "markdown",
   "metadata": {},
   "source": [
    "# Need to find the max poulation value in the data"
   ]
  },
  {
   "cell_type": "code",
   "execution_count": 243,
   "metadata": {},
   "outputs": [
    {
     "data": {
      "text/plain": [
       "683700"
      ]
     },
     "execution_count": 243,
     "metadata": {},
     "output_type": "execute_result"
    }
   ],
   "source": [
    "file.agency_population.max()"
   ]
  },
  {
   "cell_type": "markdown",
   "metadata": {},
   "source": [
    "# Need to find where the max population is (Seattle)"
   ]
  },
  {
   "cell_type": "code",
   "execution_count": 253,
   "metadata": {},
   "outputs": [
    {
     "data": {
      "text/plain": [
       "228    683700\n",
       "Name: agency_population, dtype: int64"
      ]
     },
     "execution_count": 253,
     "metadata": {},
     "output_type": "execute_result"
    }
   ],
   "source": [
    "file.agency_population[file.agency_population == 683700]"
   ]
  },
  {
   "cell_type": "code",
   "execution_count": 258,
   "metadata": {},
   "outputs": [
    {
     "data": {
      "text/plain": [
       "'Seattle'"
      ]
     },
     "execution_count": 258,
     "metadata": {},
     "output_type": "execute_result"
    }
   ],
   "source": [
    "file.agency_name[228]"
   ]
  },
  {
   "cell_type": "markdown",
   "metadata": {},
   "source": [
    "# Are there any more occurances of Seattle (nope)"
   ]
  },
  {
   "cell_type": "code",
   "execution_count": 260,
   "metadata": {},
   "outputs": [
    {
     "data": {
      "text/plain": [
       "228    Seattle\n",
       "Name: agency_name, dtype: object"
      ]
     },
     "execution_count": 260,
     "metadata": {},
     "output_type": "execute_result"
    }
   ],
   "source": [
    "file.agency_name[file.agency_name=='Seattle']"
   ]
  },
  {
   "cell_type": "markdown",
   "metadata": {},
   "source": [
    "# Another way to find where Garfield is indexed using for loop to go through the data"
   ]
  },
  {
   "cell_type": "code",
   "execution_count": 171,
   "metadata": {},
   "outputs": [
    {
     "name": "stdout",
     "output_type": "stream",
     "text": [
      "88\n",
      "89\n"
     ]
    }
   ],
   "source": [
    "for (key, name) in file.agency_name.items():\n",
    "    if name == 'Garfield':\n",
    "        print(key)"
   ]
  },
  {
   "cell_type": "code",
   "execution_count": 144,
   "metadata": {},
   "outputs": [
    {
     "data": {
      "text/plain": [
       "pandas.core.series.Series"
      ]
     },
     "execution_count": 144,
     "metadata": {},
     "output_type": "execute_result"
    }
   ],
   "source": [
    "type(file.agency_name)"
   ]
  },
  {
   "cell_type": "code",
   "execution_count": 149,
   "metadata": {},
   "outputs": [
    {
     "data": {
      "text/plain": [
       "True"
      ]
     },
     "execution_count": 149,
     "metadata": {},
     "output_type": "execute_result"
    }
   ],
   "source": [
    "'Aberdeen' in file.agency_name.values"
   ]
  },
  {
   "cell_type": "code",
   "execution_count": 146,
   "metadata": {},
   "outputs": [
    {
     "data": {
      "text/plain": [
       "'Adams'"
      ]
     },
     "execution_count": 146,
     "metadata": {},
     "output_type": "execute_result"
    }
   ],
   "source": [
    "file.agency_name[1]"
   ]
  },
  {
   "cell_type": "code",
   "execution_count": 151,
   "metadata": {},
   "outputs": [
    {
     "data": {
      "text/plain": [
       "True"
      ]
     },
     "execution_count": 151,
     "metadata": {},
     "output_type": "execute_result"
    }
   ],
   "source": [
    "'Adams' in file.agency_name.values"
   ]
  },
  {
   "cell_type": "code",
   "execution_count": 92,
   "metadata": {},
   "outputs": [
    {
     "name": "stdout",
     "output_type": "stream",
     "text": [
      "312          Yakima\n",
      "313          Yakima\n",
      "314    Yarrow Point\n",
      "315            Yelm\n",
      "316          Zillah\n",
      "Name: agency_name, dtype: object\n"
     ]
    }
   ],
   "source": [
    "print(file.agency_name.tail())"
   ]
  },
  {
   "cell_type": "code",
   "execution_count": 80,
   "metadata": {},
   "outputs": [
    {
     "name": "stdout",
     "output_type": "stream",
     "text": [
      "Collecting matplotlib\n",
      "  Downloading matplotlib-2.1.2-cp36-cp36m-macosx_10_6_intel.macosx_10_9_intel.macosx_10_9_x86_64.macosx_10_10_intel.macosx_10_10_x86_64.whl (13.2MB)\n",
      "\u001b[K    100% |████████████████████████████████| 13.2MB 101kB/s eta 0:00:01\n",
      "\u001b[?25hCollecting cycler>=0.10 (from matplotlib)\n",
      "  Using cached cycler-0.10.0-py2.py3-none-any.whl\n",
      "Requirement already satisfied: python-dateutil>=2.1 in /Library/Frameworks/Python.framework/Versions/3.6/lib/python3.6/site-packages (from matplotlib)\n",
      "Requirement already satisfied: six>=1.10 in /Library/Frameworks/Python.framework/Versions/3.6/lib/python3.6/site-packages (from matplotlib)\n",
      "Requirement already satisfied: pytz in /Library/Frameworks/Python.framework/Versions/3.6/lib/python3.6/site-packages (from matplotlib)\n",
      "Requirement already satisfied: numpy>=1.7.1 in /Library/Frameworks/Python.framework/Versions/3.6/lib/python3.6/site-packages (from matplotlib)\n",
      "Collecting pyparsing!=2.0.4,!=2.1.2,!=2.1.6,>=2.0.1 (from matplotlib)\n",
      "  Using cached pyparsing-2.2.0-py2.py3-none-any.whl\n",
      "Installing collected packages: cycler, pyparsing, matplotlib\n",
      "Successfully installed cycler-0.10.0 matplotlib-2.1.2 pyparsing-2.2.0\n"
     ]
    }
   ],
   "source": [
    "!pip3 install matplotlib"
   ]
  },
  {
   "cell_type": "code",
   "execution_count": 81,
   "metadata": {},
   "outputs": [],
   "source": [
    "import matplotlib.pyplot as plt"
   ]
  },
  {
   "cell_type": "code",
   "execution_count": null,
   "metadata": {},
   "outputs": [],
   "source": []
  }
 ],
 "metadata": {
  "kernelspec": {
   "display_name": "Python 3",
   "language": "python",
   "name": "python3"
  },
  "language_info": {
   "codemirror_mode": {
    "name": "ipython",
    "version": 3
   },
   "file_extension": ".py",
   "mimetype": "text/x-python",
   "name": "python",
   "nbconvert_exporter": "python",
   "pygments_lexer": "ipython3",
   "version": "3.6.4"
  }
 },
 "nbformat": 4,
 "nbformat_minor": 2
}
